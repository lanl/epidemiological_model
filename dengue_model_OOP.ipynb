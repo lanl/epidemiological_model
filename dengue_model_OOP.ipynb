{
 "cells": [
  {
   "cell_type": "code",
   "execution_count": 21,
   "metadata": {},
   "outputs": [],
   "source": [
    "import numpy as np\n",
    "import pandas as pd\n",
    "#from abc import *\n",
    "from scipy.integrate import odeint\n",
    "import matplotlib.pyplot as plt\n",
    "import yaml"
   ]
  },
  {
   "cell_type": "code",
   "execution_count": 25,
   "metadata": {},
   "outputs": [],
   "source": [
    "#DiseaseModel(ABC):\n",
    "\n",
    "class VectorBorneDiseaseModel():\n",
    "    def __init__(self, config_file, config_name, days):\n",
    "        self._read_config(config_file, config_name)\n",
    "        self.t = np.linspace(0, days, days*500)\n",
    "        \n",
    "    def _read_config(self, config_file, config_name):\n",
    "        with open(config_file, 'r') as in_file:\n",
    "            config_dict = yaml.safe_load(in_file)[config_name]\n",
    "            self.params = config_dict['PARAMETERS']\n",
    "            self.initial_states = config_dict[\"INITIAL_STATES\"]\n",
    "\n",
    "class DengueSEIRModel(VectorBorneDiseaseModel):\n",
    "    def __init__(self, config_file, days):\n",
    "        super().__init__(config_file, 'DENGUE', days)\n",
    "        \n",
    "    def run_model(self):\n",
    "        y0 = self.initial_states['Sh'], self.initial_states['Eh'], self.initial_states['Iha'],\\\n",
    "             self.initial_states['Ihs'], self.initial_states['Rh'], self.initial_states['Sv'], \\\n",
    "             self.initial_states['Ev'], self.initial_states['Iv']\n",
    "        \n",
    "        self.model_output = odeint(self._model_dengue, y0, self.t, args = (self,))\n",
    "            \n",
    "    def _model_dengue(self, y, t, p):\n",
    "\n",
    "        # States and population\n",
    "        Sh, Eh, Iha, Ihs, Rh, Sv, Ev, Iv = y\n",
    "        N_h = sum([Sh, Eh, Iha, Ihs, Rh])\n",
    "        N_v = sum([Sv, Ev, Iv])\n",
    "\n",
    "        # Biting rate\n",
    "        b = self.params['sigma_h'] * self.params['sigma_v'] / \\\n",
    "              (self.params['sigma_h'] * N_h + self.params['sigma_v'] * N_v)\n",
    "        b_h = b * N_v\n",
    "        b_v = b * N_h\n",
    "        \n",
    "        # Force of infecton\n",
    "        lambda_h = b_h * self.params['beta_h'] * Iv / N_v\n",
    "        lambda_v = b_v * self.params['beta_v'] * (Iha + Ihs) / N_h\n",
    "\n",
    "        # System of equations\n",
    "        dSh = -lambda_h * Sh\n",
    "        dEh = lambda_h * Sh - self.params['nu_h'] * Eh\n",
    "        dIha = self.params['psi'] * self.params['nu_h'] * Eh - self.params['gamma_h'] * Iha\n",
    "        dIhs = (1 - self.params['psi']) * self.params['nu_h'] * Eh - self.params['gamma_h'] * Ihs\n",
    "        dRh = self.params['gamma_h'] * (Iha + Ihs)\n",
    "        dSv = -lambda_v * Sh\n",
    "        dEv = lambda_v * Sh - self.params['nu_v'] * Ev\n",
    "        dIv = self.params['nu_v'] * Ev - self.params['mu_v'] * Iv\n",
    "\n",
    "        return dSh, dEh, dIha, dIhs, dRh, dSv, dEv, dIv\n",
    "    \n",
    "    def graph_model(self):\n",
    "        Sh, Eh, Iha, Ihs, Rh, Sv, Ev, Iv = self.model_output.T\n",
    "        fig = plt.figure(facecolor='w', figsize=[2*6.4, 2*4.8])\n",
    "        ax = fig.add_subplot(111, facecolor='#dddddd', axisbelow=True)\n",
    "        ax.plot(self.t, Sh, 'b', alpha=0.5, lw=2, label='Susceptible Humans')\n",
    "        ax.plot(self.t, Iha+Ihs, 'r', alpha=0.5, lw=2, label='Infected Humans')\n",
    "        ax.plot(self.t, Iv, 'k', alpha=0.5, lw=2, label='Infected Vectors')\n",
    "        #ax.plot(t, R, 'g', alpha=0.5, lw=2, label='Recovered')\n",
    "\n",
    "        ax.set_xlabel('Time (days)')\n",
    "        ax.set_ylabel('Cases')\n",
    "        ax.yaxis.set_tick_params(length=0)\n",
    "        ax.xaxis.set_tick_params(length=0)\n",
    "        ax.grid(b=True, which='major', c='w', lw=2, ls='-')\n",
    "        legend = ax.legend()\n",
    "        plt.title(\"Dengue Incidence\")\n",
    "        legend.get_frame().set_alpha(0.5)\n",
    "        for spine in ('top', 'right', 'bottom', 'left'):\n",
    "            ax.spines[spine].set_visible(False)\n",
    "        plt.show()"
   ]
  },
  {
   "cell_type": "markdown",
   "metadata": {},
   "source": [
    "### MAIN"
   ]
  },
  {
   "cell_type": "code",
   "execution_count": 23,
   "metadata": {},
   "outputs": [
    {
     "data": {
      "image/png": "[encoded data removed]",
      "text/plain": [
       "<Figure size 921.6x691.2 with 1 Axes>"
      ]
     },
     "metadata": {},
     "output_type": "display_data"
    }
   ],
   "source": [
    "config_file = 'config.yaml'\n",
    "\n",
    "den = DengueSEIRModel(config_file, days=14)\n",
    "den.run_model()\n",
    "den.graph_model()"
   ]
  }
 ],
 "metadata": {
  "kernelspec": {
   "display_name": "Python 3",
   "language": "python",
   "name": "python3"
  },
  "language_info": {
   "codemirror_mode": {
    "name": "ipython",
    "version": 3
   },
   "file_extension": ".py",
   "mimetype": "text/x-python",
   "name": "python",
   "nbconvert_exporter": "python",
   "pygments_lexer": "ipython3",
   "version": "3.8.3"
  }
 },
 "nbformat": 4,
 "nbformat_minor": 4
}
