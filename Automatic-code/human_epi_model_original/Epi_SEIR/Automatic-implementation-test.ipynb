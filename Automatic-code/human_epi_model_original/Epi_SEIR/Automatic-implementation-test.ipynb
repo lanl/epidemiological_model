{
 "cells": [
  {
   "cell_type": "code",
   "execution_count": 1,
   "id": "3322a008-fb53-41d5-bd88-c331ebf18e7d",
   "metadata": {},
   "outputs": [],
   "source": [
    "import numpy as np\n",
    "import pandas as pd"
   ]
  },
  {
   "cell_type": "code",
   "execution_count": 56,
   "id": "7a1f85ac-9b66-4cf8-8a07-82b403fda7cf",
   "metadata": {},
   "outputs": [
    {
     "name": "stdout",
     "output_type": "stream",
     "text": [
      "New year 2000\n",
      "Still in year 2000\n",
      "Still in year 2000\n",
      "Still in year 2000\n",
      "Still in year 2000\n",
      "New year 2001\n",
      "Still in year 2001\n",
      "Still in year 2001\n",
      "Still in year 2001\n",
      "Still in year 2001\n",
      "New year 2002\n",
      "Still in year 2002\n",
      "Still in year 2002\n",
      "Still in year 2002\n",
      "Still in year 2002\n",
      "New year 2003\n",
      "Still in year 2003\n",
      "Still in year 2003\n",
      "Still in year 2003\n",
      "Still in year 2003\n"
     ]
    }
   ],
   "source": [
    "#t=0\n",
    "t=list(range(20))\n",
    "year=2000\n",
    "for i in range(0,len(t)):\n",
    "    if (t[i]%5==0 ):\n",
    "     \n",
    "        print(\"New year\",year)\n",
    "        year+=1\n",
    "    else:\n",
    "        \n",
    "        print(\"Still in year\",year-1)\n",
    "        #year+=1\n",
    "        \n",
    "#     while t%365==0:\n",
    "#         year=cont\n",
    "#         print (year,t)\n",
    "#         t+=1\n",
    "#     else:\n",
    "#         cont+=1\n",
    "#         year=cont\n",
    "#         print(year,t)\n",
    "#         t+=1\n",
    "    \n",
    "  \n",
    "    \n"
   ]
  },
  {
   "cell_type": "code",
   "execution_count": 55,
   "id": "ee6a377f-601b-480d-8ee2-2f684e4e4126",
   "metadata": {},
   "outputs": [
    {
     "data": {
      "text/plain": [
       "2.2222222222222223"
      ]
     },
     "execution_count": 55,
     "metadata": {},
     "output_type": "execute_result"
    }
   ],
   "source": [
    "t=np.linspace(0,10,10)\n",
    "t[2]"
   ]
  },
  {
   "cell_type": "code",
   "execution_count": 5,
   "id": "d9ef3226-18e7-4a9a-82d2-3748197c5667",
   "metadata": {},
   "outputs": [
    {
     "data": {
      "text/plain": [
       "6.0"
      ]
     },
     "execution_count": 5,
     "metadata": {},
     "output_type": "execute_result"
    }
   ],
   "source": [
    "t_eval = np.linspace(0, 370, 370*1 + 1)\n",
    "t_eval[5]\n",
    "t_eval[6]"
   ]
  },
  {
   "cell_type": "code",
   "execution_count": null,
   "id": "2583367e-237b-40c9-a5c7-3eb823a7a8f5",
   "metadata": {},
   "outputs": [],
   "source": []
  },
  {
   "cell_type": "code",
   "execution_count": null,
   "id": "51ac720a-667b-4747-a511-688f25841a42",
   "metadata": {},
   "outputs": [],
   "source": []
  },
  {
   "cell_type": "code",
   "execution_count": 3,
   "id": "d8341c7f-6f84-49cb-997e-03deba68f046",
   "metadata": {},
   "outputs": [
    {
     "data": {
      "text/plain": [
       "array([  0.,   1.,   2.,   3.,   4.,   5.,   6.,   7.,   8.,   9.,  10.,\n",
       "        11.,  12.,  13.,  14.,  15.,  16.,  17.,  18.,  19.,  20.,  21.,\n",
       "        22.,  23.,  24.,  25.,  26.,  27.,  28.,  29.,  30.,  31.,  32.,\n",
       "        33.,  34.,  35.,  36.,  37.,  38.,  39.,  40.,  41.,  42.,  43.,\n",
       "        44.,  45.,  46.,  47.,  48.,  49.,  50.,  51.,  52.,  53.,  54.,\n",
       "        55.,  56.,  57.,  58.,  59.,  60.,  61.,  62.,  63.,  64.,  65.,\n",
       "        66.,  67.,  68.,  69.,  70.,  71.,  72.,  73.,  74.,  75.,  76.,\n",
       "        77.,  78.,  79.,  80.,  81.,  82.,  83.,  84.,  85.,  86.,  87.,\n",
       "        88.,  89.,  90.,  91.,  92.,  93.,  94.,  95.,  96.,  97.,  98.,\n",
       "        99., 100., 101., 102., 103., 104., 105., 106., 107., 108., 109.,\n",
       "       110., 111., 112., 113., 114., 115., 116., 117., 118., 119., 120.,\n",
       "       121., 122., 123., 124., 125., 126., 127., 128., 129., 130., 131.,\n",
       "       132., 133., 134., 135., 136., 137., 138., 139., 140., 141., 142.,\n",
       "       143., 144., 145., 146., 147., 148., 149., 150., 151., 152., 153.,\n",
       "       154., 155., 156., 157., 158., 159., 160., 161., 162., 163., 164.,\n",
       "       165., 166., 167., 168., 169., 170., 171., 172., 173., 174., 175.,\n",
       "       176., 177., 178., 179., 180., 181., 182., 183., 184., 185., 186.,\n",
       "       187., 188., 189., 190., 191., 192., 193., 194., 195., 196., 197.,\n",
       "       198., 199., 200., 201., 202., 203., 204., 205., 206., 207., 208.,\n",
       "       209., 210., 211., 212., 213., 214., 215., 216., 217., 218., 219.,\n",
       "       220., 221., 222., 223., 224., 225., 226., 227., 228., 229., 230.,\n",
       "       231., 232., 233., 234., 235., 236., 237., 238., 239., 240., 241.,\n",
       "       242., 243., 244., 245., 246., 247., 248., 249., 250., 251., 252.,\n",
       "       253., 254., 255., 256., 257., 258., 259., 260., 261., 262., 263.,\n",
       "       264., 265., 266., 267., 268., 269., 270., 271., 272., 273., 274.,\n",
       "       275., 276., 277., 278., 279., 280., 281., 282., 283., 284., 285.,\n",
       "       286., 287., 288., 289., 290., 291., 292., 293., 294., 295., 296.,\n",
       "       297., 298., 299., 300., 301., 302., 303., 304., 305., 306., 307.,\n",
       "       308., 309., 310., 311., 312., 313., 314., 315., 316., 317., 318.,\n",
       "       319., 320., 321., 322., 323., 324., 325., 326., 327., 328., 329.,\n",
       "       330., 331., 332., 333., 334., 335., 336., 337., 338., 339., 340.,\n",
       "       341., 342., 343., 344., 345., 346., 347., 348., 349., 350., 351.,\n",
       "       352., 353., 354., 355., 356., 357., 358., 359., 360., 361., 362.,\n",
       "       363., 364., 365., 366., 367., 368., 369., 370.])"
      ]
     },
     "execution_count": 3,
     "metadata": {},
     "output_type": "execute_result"
    }
   ],
   "source": [
    "self.t = (0, self.config_dict['DURATION'])"
   ]
  },
  {
   "cell_type": "code",
   "execution_count": null,
   "id": "f5f2bd7e-182a-466d-832b-6b7beb7111ca",
   "metadata": {},
   "outputs": [],
   "source": []
  }
 ],
 "metadata": {
  "kernelspec": {
   "display_name": "Python [conda env:human-epi-env]",
   "language": "python",
   "name": "conda-env-human-epi-env-py"
  },
  "language_info": {
   "codemirror_mode": {
    "name": "ipython",
    "version": 3
   },
   "file_extension": ".py",
   "mimetype": "text/x-python",
   "name": "python",
   "nbconvert_exporter": "python",
   "pygments_lexer": "ipython3",
   "version": "3.9.13"
  }
 },
 "nbformat": 4,
 "nbformat_minor": 5
}
