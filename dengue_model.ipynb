{
 "cells": [
  {
   "cell_type": "code",
   "execution_count": 2,
   "metadata": {},
   "outputs": [],
   "source": [
    "import numpy as np\n",
    "import pandas as pd\n",
    "from scipy.integrate import odeint\n",
    "import matplotlib.pyplot as plt\n",
    "import yaml\n",
    "#from models import *"
   ]
  },
  {
   "cell_type": "code",
   "execution_count": 45,
   "metadata": {},
   "outputs": [],
   "source": [
    "def graph_model(out, N, p):\n",
    "    S, I, A, R = out\n",
    "    fig = plt.figure(facecolor='w', figsize=[2*6.4, 2*4.8])\n",
    "    ax = fig.add_subplot(111, facecolor='#dddddd', axisbelow=True)\n",
    "    ax.plot(t, S, 'b', alpha=0.5, lw=2, label='Susceptible')\n",
    "    ax.plot(t, I, 'r', alpha=0.5, lw=2, label='Symptomatic')\n",
    "    ax.plot(t, A, 'k', alpha=0.5, lw=2, label='Asymptomatic')\n",
    "    ax.plot(t, R, 'g', alpha=0.5, lw=2, label='Recovered')\n",
    "\n",
    "    ax.set_xlabel('Time (days)')\n",
    "    ax.set_ylabel('Cases')\n",
    "    ax.set_xlim(0,500)\n",
    "    ax.yaxis.set_tick_params(length=0)\n",
    "    ax.xaxis.set_tick_params(length=0)\n",
    "    ax.grid(b=True, which='major', c='w', lw=2, ls='-')\n",
    "    legend = ax.legend()\n",
    "    plt.title(\"Vibrio Cholerae concentration = \" + str(p['W']) + \" cells/mL\")\n",
    "    legend.get_frame().set_alpha(0.5)\n",
    "    for spine in ('top', 'right', 'bottom', 'left'):\n",
    "        ax.spines[spine].set_visible(False)\n",
    "    plt.show()\n",
    "    \n",
    "def model_dengue(y, t, N, p):\n",
    "\n",
    "    Sh, Eh, Iha, Ihs, Rh, Sv, Ev, Iv = y\n",
    "    \n",
    "    \n",
    "    lambda_h = p['b_h'] * p['beta_h'] * Iv / p['N_v']\n",
    "    lambda_v = p['b_v'] * p['beta_v'] * (Iha + Ihs) / p['N_h']\n",
    "    \n",
    "    dSh = -lambda_h * Sh\n",
    "    dEh = -lambda_h * Sh - p['nu_h'] * Eh\n",
    "    dIha = p['psi'] * p['nu_h'] * Eh - p['gamma_h'] * Iha\n",
    "    dIhs = (1 - p['psi']) * p['nu_h'] * Eh - p['gamma_h'] * Ihs\n",
    "    dRh = p['gamma_h'] * (Iha + Ihs)\n",
    "    dSv = -lambda_v * Sh\n",
    "    dEv = -lambda_v * Sh - p['nu_v'] * Ev\n",
    "    dIv = p['nu_v'] * Ev - p['mu_v'] * Iv\n",
    "\n",
    "#     w = p['a'] * p['W'] / (p['kappa'] + p['W'])\n",
    "\n",
    "#     dS = -(p['beta'] * (I + A) + w) * S    \n",
    "#     dI = (1 - p['p']) * S * (p['beta']  * (I + A) + w) - p['gamma'] * I\n",
    "#     dA = p['p'] * S * (p['beta'] * (I + A) + w) - p['gamma'] * A\n",
    "#     dR = p['gamma'] * (I + A)\n",
    "\n",
    "    return dSh, dEh, dIha, dIhs, dRh, dSv, dEv, dIv"
   ]
  },
  {
   "cell_type": "code",
   "execution_count": 56,
   "metadata": {},
   "outputs": [
    {
     "data": {
      "text/plain": [
       "{'Sh': 8, 'Eh': 0, 'Iha': 1, 'Ihs': 0, 'Rh': 0, 'Sv': 0, 'Ev': 0, 'Iv': 0}"
      ]
     },
     "execution_count": 56,
     "metadata": {},
     "output_type": "execute_result"
    }
   ],
   "source": [
    "with open('config.yaml', 'r') as in_file:\n",
    "    params = yaml.load(in_file, Loader=yaml.FullLoader)['DENGUE']\n",
    "p = params['PARAMETERS']\n",
    "s_init = params[\"INITIAL_STATES\"]"
   ]
  },
  {
   "cell_type": "code",
   "execution_count": 58,
   "metadata": {},
   "outputs": [],
   "source": [
    "# s_init = {'Sh': 10 - 2,\\\n",
    "#           'Eh': 0,\\\n",
    "#           'Iha': 1,\\\n",
    "#           'Ihs': 0,\\\n",
    "#           'Rh': 0,\\\n",
    "#           'Sv': 0,\\\n",
    "#           'Ev': 0,\\\n",
    "#           'Iv' : 0}\n",
    "\n",
    "# p = {'psi' : 0.9,\\\n",
    "#      'nu_h': 2e-8,\\\n",
    "#      'nu_v': int(1e5),\\\n",
    "#      'gamma_h': 1e6,\\\n",
    "#      'mu_v': 0.2,\\\n",
    "#      'b_h': 2,\\\n",
    "#      'b_v': 2,\\\n",
    "#      'beta_h': 1/7,\\\n",
    "#      'beta_v': 1/7,\\\n",
    "#      'N_h': 100,\\\n",
    "#      'N_v': 100}\n",
    "\n",
    "# tt = {'t2': 22,\\\n",
    "#         'tt': 33,\\\n",
    "#         'ttt': 44}\n",
    "\n",
    "out = {'DENGUE': {\"PARAMETERS\": p, \"INITIAL_STATES\": s_init}, 'WNV': tt}\n",
    "\n",
    "days = 3000\n",
    "t = np.linspace(0, days, days*500)\n",
    "\n",
    "# -----------------\n",
    "s = 0 #PLACEHOLDER.. WHY IS THIS NEEDED?-----------------------------------\n",
    "# -----------------\n",
    "y0 = s_init['Sh'], s_init['Eh'], s_init['Iha'], s_init['Ihs'],\\\n",
    "    s_init['Rh'], s_init['Sv'], s_init['Ev'], s_init['Iv']\n",
    "output = odeint(model_dengue, y0, t, args = (s,p))\n",
    "Sh, Eh, Iha, Ihs, Rh, Sv, Ev, Iv = output.T\n",
    "#graph_model(output.T, N, p)"
   ]
  },
  {
   "cell_type": "code",
   "execution_count": 53,
   "metadata": {
    "scrolled": false
   },
   "outputs": [],
   "source": [
    "# with open('config.yaml', 'w') as out_file:\n",
    "#     yaml.dump(out, out_file, sort_keys=False)"
   ]
  }
 ],
 "metadata": {
  "kernelspec": {
   "display_name": "Python 3",
   "language": "python",
   "name": "python3"
  },
  "language_info": {
   "codemirror_mode": {
    "name": "ipython",
    "version": 3
   },
   "file_extension": ".py",
   "mimetype": "text/x-python",
   "name": "python",
   "nbconvert_exporter": "python",
   "pygments_lexer": "ipython3",
   "version": "3.8.3"
  }
 },
 "nbformat": 4,
 "nbformat_minor": 4
}
